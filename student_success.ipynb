{
 "cells": [
  {
   "cell_type": "code",
   "execution_count": 1,
   "metadata": {},
   "outputs": [
    {
     "name": "stderr",
     "output_type": "stream",
     "text": [
      "\n",
      "Bad key \"text.kerning_factor\" on line 4 in\n",
      "/Users/michaelliu/anaconda/lib/python3.6/site-packages/matplotlib/mpl-data/stylelib/_classic_test_patch.mplstyle.\n",
      "You probably need to get an updated matplotlibrc file from\n",
      "https://github.com/matplotlib/matplotlib/blob/v3.1.3/matplotlibrc.template\n",
      "or from the matplotlib source distribution\n"
     ]
    }
   ],
   "source": [
    "import pandas as pd\n",
    "import numpy as np\n",
    "import matplotlib\n",
    "import matplotlib.pyplot as plt\n",
    "import scipy as sp\n",
    "from sklearn.preprocessing import LabelEncoder, OneHotEncoder\n"
   ]
  },
  {
   "cell_type": "code",
   "execution_count": 2,
   "metadata": {},
   "outputs": [
    {
     "data": {
      "text/html": [
       "<div>\n",
       "<style scoped>\n",
       "    .dataframe tbody tr th:only-of-type {\n",
       "        vertical-align: middle;\n",
       "    }\n",
       "\n",
       "    .dataframe tbody tr th {\n",
       "        vertical-align: top;\n",
       "    }\n",
       "\n",
       "    .dataframe thead th {\n",
       "        text-align: right;\n",
       "    }\n",
       "</style>\n",
       "<table border=\"1\" class=\"dataframe\">\n",
       "  <thead>\n",
       "    <tr style=\"text-align: right;\">\n",
       "      <th></th>\n",
       "      <th>Rank</th>\n",
       "      <th>Location</th>\n",
       "      <th>Tuition</th>\n",
       "      <th>Major</th>\n",
       "      <th>Salary</th>\n",
       "    </tr>\n",
       "  </thead>\n",
       "  <tbody>\n",
       "    <tr>\n",
       "      <th>0</th>\n",
       "      <td>99</td>\n",
       "      <td>AL</td>\n",
       "      <td>28840</td>\n",
       "      <td>Management</td>\n",
       "      <td>41400</td>\n",
       "    </tr>\n",
       "    <tr>\n",
       "      <th>1</th>\n",
       "      <td>99</td>\n",
       "      <td>AL</td>\n",
       "      <td>28840</td>\n",
       "      <td>Business</td>\n",
       "      <td>41400</td>\n",
       "    </tr>\n",
       "    <tr>\n",
       "      <th>2</th>\n",
       "      <td>99</td>\n",
       "      <td>AL</td>\n",
       "      <td>28840</td>\n",
       "      <td>Architecture</td>\n",
       "      <td>48800</td>\n",
       "    </tr>\n",
       "    <tr>\n",
       "      <th>3</th>\n",
       "      <td>99</td>\n",
       "      <td>AL</td>\n",
       "      <td>28840</td>\n",
       "      <td>Communication</td>\n",
       "      <td>34800</td>\n",
       "    </tr>\n",
       "    <tr>\n",
       "      <th>4</th>\n",
       "      <td>99</td>\n",
       "      <td>AL</td>\n",
       "      <td>28840</td>\n",
       "      <td>Med</td>\n",
       "      <td>34800</td>\n",
       "    </tr>\n",
       "    <tr>\n",
       "      <th>...</th>\n",
       "      <td>...</td>\n",
       "      <td>...</td>\n",
       "      <td>...</td>\n",
       "      <td>...</td>\n",
       "      <td>...</td>\n",
       "    </tr>\n",
       "    <tr>\n",
       "      <th>3565</th>\n",
       "      <td>5</td>\n",
       "      <td>CA</td>\n",
       "      <td>47940</td>\n",
       "      <td>Language</td>\n",
       "      <td>24200</td>\n",
       "    </tr>\n",
       "    <tr>\n",
       "      <th>3566</th>\n",
       "      <td>5</td>\n",
       "      <td>CA</td>\n",
       "      <td>47940</td>\n",
       "      <td>Bio</td>\n",
       "      <td>35900</td>\n",
       "    </tr>\n",
       "    <tr>\n",
       "      <th>3567</th>\n",
       "      <td>5</td>\n",
       "      <td>CA</td>\n",
       "      <td>47940</td>\n",
       "      <td>Bio</td>\n",
       "      <td>36200</td>\n",
       "    </tr>\n",
       "    <tr>\n",
       "      <th>3568</th>\n",
       "      <td>5</td>\n",
       "      <td>CA</td>\n",
       "      <td>47940</td>\n",
       "      <td>Psychology</td>\n",
       "      <td>41300</td>\n",
       "    </tr>\n",
       "    <tr>\n",
       "      <th>3569</th>\n",
       "      <td>5</td>\n",
       "      <td>CA</td>\n",
       "      <td>47940</td>\n",
       "      <td>Economics</td>\n",
       "      <td>80900</td>\n",
       "    </tr>\n",
       "  </tbody>\n",
       "</table>\n",
       "<p>3570 rows × 5 columns</p>\n",
       "</div>"
      ],
      "text/plain": [
       "      Rank Location  Tuition          Major  Salary\n",
       "0       99       AL    28840     Management   41400\n",
       "1       99       AL    28840       Business   41400\n",
       "2       99       AL    28840   Architecture   48800\n",
       "3       99       AL    28840  Communication   34800\n",
       "4       99       AL    28840            Med   34800\n",
       "...    ...      ...      ...            ...     ...\n",
       "3565     5       CA    47940       Language   24200\n",
       "3566     5       CA    47940            Bio   35900\n",
       "3567     5       CA    47940            Bio   36200\n",
       "3568     5       CA    47940     Psychology   41300\n",
       "3569     5       CA    47940      Economics   80900\n",
       "\n",
       "[3570 rows x 5 columns]"
      ]
     },
     "execution_count": 2,
     "metadata": {},
     "output_type": "execute_result"
    }
   ],
   "source": [
    "names =[\"Rank\", \"Location\", \"Tuition\", \"Major\", \"Salary\"]\n",
    "# TODO \n",
    "# dftrain = pd.read_csv(...)\n",
    "df = pd.read_csv('usuable_data_student_success.csv',\n",
    "                 names=names,na_values='?')\n",
    "df"
   ]
  },
  {
   "cell_type": "code",
   "execution_count": 3,
   "metadata": {},
   "outputs": [
    {
     "name": "stdout",
     "output_type": "stream",
     "text": [
      "Encoding Location\n",
      "Encoding Major\n"
     ]
    },
    {
     "data": {
      "text/html": [
       "<div>\n",
       "<style scoped>\n",
       "    .dataframe tbody tr th:only-of-type {\n",
       "        vertical-align: middle;\n",
       "    }\n",
       "\n",
       "    .dataframe tbody tr th {\n",
       "        vertical-align: top;\n",
       "    }\n",
       "\n",
       "    .dataframe thead th {\n",
       "        text-align: right;\n",
       "    }\n",
       "</style>\n",
       "<table border=\"1\" class=\"dataframe\">\n",
       "  <thead>\n",
       "    <tr style=\"text-align: right;\">\n",
       "      <th></th>\n",
       "      <th>Rank</th>\n",
       "      <th>Tuition</th>\n",
       "      <th>Salary</th>\n",
       "      <th>Location__AL</th>\n",
       "      <th>Location__AR</th>\n",
       "      <th>Location__AZ</th>\n",
       "      <th>Location__CA</th>\n",
       "      <th>Location__CO</th>\n",
       "      <th>Location__CT</th>\n",
       "      <th>Location__DC</th>\n",
       "      <th>...</th>\n",
       "      <th>Major__Med</th>\n",
       "      <th>Major__Music</th>\n",
       "      <th>Major__Nursing</th>\n",
       "      <th>Major__Petroleum</th>\n",
       "      <th>Major__Philosophy</th>\n",
       "      <th>Major__Physics</th>\n",
       "      <th>Major__Politic</th>\n",
       "      <th>Major__Psychology</th>\n",
       "      <th>Major__Social</th>\n",
       "      <th>Major__Sociology</th>\n",
       "    </tr>\n",
       "  </thead>\n",
       "  <tbody>\n",
       "    <tr>\n",
       "      <th>0</th>\n",
       "      <td>-99</td>\n",
       "      <td>28840</td>\n",
       "      <td>41400</td>\n",
       "      <td>1</td>\n",
       "      <td>0</td>\n",
       "      <td>0</td>\n",
       "      <td>0</td>\n",
       "      <td>0</td>\n",
       "      <td>0</td>\n",
       "      <td>0</td>\n",
       "      <td>...</td>\n",
       "      <td>0</td>\n",
       "      <td>0</td>\n",
       "      <td>0</td>\n",
       "      <td>0</td>\n",
       "      <td>0</td>\n",
       "      <td>0</td>\n",
       "      <td>0</td>\n",
       "      <td>0</td>\n",
       "      <td>0</td>\n",
       "      <td>0</td>\n",
       "    </tr>\n",
       "    <tr>\n",
       "      <th>1</th>\n",
       "      <td>-99</td>\n",
       "      <td>28840</td>\n",
       "      <td>41400</td>\n",
       "      <td>1</td>\n",
       "      <td>0</td>\n",
       "      <td>0</td>\n",
       "      <td>0</td>\n",
       "      <td>0</td>\n",
       "      <td>0</td>\n",
       "      <td>0</td>\n",
       "      <td>...</td>\n",
       "      <td>0</td>\n",
       "      <td>0</td>\n",
       "      <td>0</td>\n",
       "      <td>0</td>\n",
       "      <td>0</td>\n",
       "      <td>0</td>\n",
       "      <td>0</td>\n",
       "      <td>0</td>\n",
       "      <td>0</td>\n",
       "      <td>0</td>\n",
       "    </tr>\n",
       "    <tr>\n",
       "      <th>2</th>\n",
       "      <td>-99</td>\n",
       "      <td>28840</td>\n",
       "      <td>48800</td>\n",
       "      <td>1</td>\n",
       "      <td>0</td>\n",
       "      <td>0</td>\n",
       "      <td>0</td>\n",
       "      <td>0</td>\n",
       "      <td>0</td>\n",
       "      <td>0</td>\n",
       "      <td>...</td>\n",
       "      <td>0</td>\n",
       "      <td>0</td>\n",
       "      <td>0</td>\n",
       "      <td>0</td>\n",
       "      <td>0</td>\n",
       "      <td>0</td>\n",
       "      <td>0</td>\n",
       "      <td>0</td>\n",
       "      <td>0</td>\n",
       "      <td>0</td>\n",
       "    </tr>\n",
       "    <tr>\n",
       "      <th>3</th>\n",
       "      <td>-99</td>\n",
       "      <td>28840</td>\n",
       "      <td>34800</td>\n",
       "      <td>1</td>\n",
       "      <td>0</td>\n",
       "      <td>0</td>\n",
       "      <td>0</td>\n",
       "      <td>0</td>\n",
       "      <td>0</td>\n",
       "      <td>0</td>\n",
       "      <td>...</td>\n",
       "      <td>0</td>\n",
       "      <td>0</td>\n",
       "      <td>0</td>\n",
       "      <td>0</td>\n",
       "      <td>0</td>\n",
       "      <td>0</td>\n",
       "      <td>0</td>\n",
       "      <td>0</td>\n",
       "      <td>0</td>\n",
       "      <td>0</td>\n",
       "    </tr>\n",
       "    <tr>\n",
       "      <th>4</th>\n",
       "      <td>-99</td>\n",
       "      <td>28840</td>\n",
       "      <td>34800</td>\n",
       "      <td>1</td>\n",
       "      <td>0</td>\n",
       "      <td>0</td>\n",
       "      <td>0</td>\n",
       "      <td>0</td>\n",
       "      <td>0</td>\n",
       "      <td>0</td>\n",
       "      <td>...</td>\n",
       "      <td>1</td>\n",
       "      <td>0</td>\n",
       "      <td>0</td>\n",
       "      <td>0</td>\n",
       "      <td>0</td>\n",
       "      <td>0</td>\n",
       "      <td>0</td>\n",
       "      <td>0</td>\n",
       "      <td>0</td>\n",
       "      <td>0</td>\n",
       "    </tr>\n",
       "    <tr>\n",
       "      <th>5</th>\n",
       "      <td>-99</td>\n",
       "      <td>28840</td>\n",
       "      <td>35200</td>\n",
       "      <td>1</td>\n",
       "      <td>0</td>\n",
       "      <td>0</td>\n",
       "      <td>0</td>\n",
       "      <td>0</td>\n",
       "      <td>0</td>\n",
       "      <td>0</td>\n",
       "      <td>...</td>\n",
       "      <td>0</td>\n",
       "      <td>0</td>\n",
       "      <td>0</td>\n",
       "      <td>0</td>\n",
       "      <td>0</td>\n",
       "      <td>0</td>\n",
       "      <td>0</td>\n",
       "      <td>0</td>\n",
       "      <td>0</td>\n",
       "      <td>0</td>\n",
       "    </tr>\n",
       "    <tr>\n",
       "      <th>6</th>\n",
       "      <td>-99</td>\n",
       "      <td>28840</td>\n",
       "      <td>34800</td>\n",
       "      <td>1</td>\n",
       "      <td>0</td>\n",
       "      <td>0</td>\n",
       "      <td>0</td>\n",
       "      <td>0</td>\n",
       "      <td>0</td>\n",
       "      <td>0</td>\n",
       "      <td>...</td>\n",
       "      <td>0</td>\n",
       "      <td>0</td>\n",
       "      <td>0</td>\n",
       "      <td>0</td>\n",
       "      <td>0</td>\n",
       "      <td>0</td>\n",
       "      <td>0</td>\n",
       "      <td>0</td>\n",
       "      <td>0</td>\n",
       "      <td>0</td>\n",
       "    </tr>\n",
       "    <tr>\n",
       "      <th>7</th>\n",
       "      <td>-99</td>\n",
       "      <td>28840</td>\n",
       "      <td>52800</td>\n",
       "      <td>1</td>\n",
       "      <td>0</td>\n",
       "      <td>0</td>\n",
       "      <td>0</td>\n",
       "      <td>0</td>\n",
       "      <td>0</td>\n",
       "      <td>0</td>\n",
       "      <td>...</td>\n",
       "      <td>0</td>\n",
       "      <td>0</td>\n",
       "      <td>0</td>\n",
       "      <td>0</td>\n",
       "      <td>0</td>\n",
       "      <td>0</td>\n",
       "      <td>0</td>\n",
       "      <td>0</td>\n",
       "      <td>0</td>\n",
       "      <td>0</td>\n",
       "    </tr>\n",
       "    <tr>\n",
       "      <th>8</th>\n",
       "      <td>-99</td>\n",
       "      <td>28840</td>\n",
       "      <td>60000</td>\n",
       "      <td>1</td>\n",
       "      <td>0</td>\n",
       "      <td>0</td>\n",
       "      <td>0</td>\n",
       "      <td>0</td>\n",
       "      <td>0</td>\n",
       "      <td>0</td>\n",
       "      <td>...</td>\n",
       "      <td>0</td>\n",
       "      <td>0</td>\n",
       "      <td>0</td>\n",
       "      <td>0</td>\n",
       "      <td>0</td>\n",
       "      <td>0</td>\n",
       "      <td>0</td>\n",
       "      <td>0</td>\n",
       "      <td>0</td>\n",
       "      <td>0</td>\n",
       "    </tr>\n",
       "    <tr>\n",
       "      <th>9</th>\n",
       "      <td>-99</td>\n",
       "      <td>28840</td>\n",
       "      <td>73100</td>\n",
       "      <td>1</td>\n",
       "      <td>0</td>\n",
       "      <td>0</td>\n",
       "      <td>0</td>\n",
       "      <td>0</td>\n",
       "      <td>0</td>\n",
       "      <td>0</td>\n",
       "      <td>...</td>\n",
       "      <td>0</td>\n",
       "      <td>0</td>\n",
       "      <td>0</td>\n",
       "      <td>0</td>\n",
       "      <td>0</td>\n",
       "      <td>0</td>\n",
       "      <td>0</td>\n",
       "      <td>0</td>\n",
       "      <td>0</td>\n",
       "      <td>0</td>\n",
       "    </tr>\n",
       "  </tbody>\n",
       "</table>\n",
       "<p>10 rows × 90 columns</p>\n",
       "</div>"
      ],
      "text/plain": [
       "   Rank  Tuition  Salary  Location__AL  Location__AR  Location__AZ  \\\n",
       "0   -99    28840   41400             1             0             0   \n",
       "1   -99    28840   41400             1             0             0   \n",
       "2   -99    28840   48800             1             0             0   \n",
       "3   -99    28840   34800             1             0             0   \n",
       "4   -99    28840   34800             1             0             0   \n",
       "5   -99    28840   35200             1             0             0   \n",
       "6   -99    28840   34800             1             0             0   \n",
       "7   -99    28840   52800             1             0             0   \n",
       "8   -99    28840   60000             1             0             0   \n",
       "9   -99    28840   73100             1             0             0   \n",
       "\n",
       "   Location__CA  Location__CO  Location__CT  Location__DC  ...  Major__Med  \\\n",
       "0             0             0             0             0  ...           0   \n",
       "1             0             0             0             0  ...           0   \n",
       "2             0             0             0             0  ...           0   \n",
       "3             0             0             0             0  ...           0   \n",
       "4             0             0             0             0  ...           1   \n",
       "5             0             0             0             0  ...           0   \n",
       "6             0             0             0             0  ...           0   \n",
       "7             0             0             0             0  ...           0   \n",
       "8             0             0             0             0  ...           0   \n",
       "9             0             0             0             0  ...           0   \n",
       "\n",
       "   Major__Music  Major__Nursing  Major__Petroleum  Major__Philosophy  \\\n",
       "0             0               0                 0                  0   \n",
       "1             0               0                 0                  0   \n",
       "2             0               0                 0                  0   \n",
       "3             0               0                 0                  0   \n",
       "4             0               0                 0                  0   \n",
       "5             0               0                 0                  0   \n",
       "6             0               0                 0                  0   \n",
       "7             0               0                 0                  0   \n",
       "8             0               0                 0                  0   \n",
       "9             0               0                 0                  0   \n",
       "\n",
       "   Major__Physics  Major__Politic  Major__Psychology  Major__Social  \\\n",
       "0               0               0                  0              0   \n",
       "1               0               0                  0              0   \n",
       "2               0               0                  0              0   \n",
       "3               0               0                  0              0   \n",
       "4               0               0                  0              0   \n",
       "5               0               0                  0              0   \n",
       "6               0               0                  0              0   \n",
       "7               0               0                  0              0   \n",
       "8               0               0                  0              0   \n",
       "9               0               0                  0              0   \n",
       "\n",
       "   Major__Sociology  \n",
       "0                 0  \n",
       "1                 0  \n",
       "2                 0  \n",
       "3                 0  \n",
       "4                 0  \n",
       "5                 0  \n",
       "6                 0  \n",
       "7                 0  \n",
       "8                 0  \n",
       "9                 0  \n",
       "\n",
       "[10 rows x 90 columns]"
      ]
     },
     "execution_count": 3,
     "metadata": {},
     "output_type": "execute_result"
    }
   ],
   "source": [
    "cat_columns = [\"Location\", \"Major\"]\n",
    "df_processed = pd.get_dummies(df, prefix_sep=\"__\",\n",
    "                              columns=cat_columns)\n",
    "df_processed[\"Rank\"]*=-1\n",
    "label_encoders = {}\n",
    "for col in cat_columns:\n",
    "    print(\"Encoding {}\".format(col))\n",
    "    new_le = LabelEncoder()\n",
    "    df_processed[col] = new_le.fit_transform(df[col])\n",
    "    label_encoders[col] = new_le\n",
    "    \n",
    "df_processed = df_processed.drop(columns=\"Location\")\n",
    "df_processed = df_processed.drop(columns=\"Major\")\n",
    "\n",
    "\n",
    "df_processed.head(10)\n"
   ]
  },
  {
   "cell_type": "code",
   "execution_count": 4,
   "metadata": {},
   "outputs": [
    {
     "data": {
      "text/plain": [
       "(2856, 90)"
      ]
     },
     "execution_count": 4,
     "metadata": {},
     "output_type": "execute_result"
    }
   ],
   "source": [
    "#split into test and train\n",
    "from sklearn.model_selection import train_test_split\n",
    "train, test = train_test_split(df_processed, test_size=0.2)\n",
    "train.shape"
   ]
  },
  {
   "cell_type": "code",
   "execution_count": 28,
   "metadata": {},
   "outputs": [
    {
     "name": "stdout",
     "output_type": "stream",
     "text": [
      "basline train loss using median=1.33e+04\n",
      "basline train loss using mean=1.36e+04\n",
      "basline test loss using median=1.26e+04\n",
      "basline test loss using mean=1.28e+04\n"
     ]
    }
   ],
   "source": [
    "#set up a simple baseline by using median salary as prediction \n",
    "ytrain = np.array(train['Salary'])\n",
    "median_salary = np.median(ytrain)\n",
    "ytrain_pred_loss_arr = np.absolute(ytrain - median_salary)\n",
    "baseline_train_loss = np.sum(np.abs(ytrain_pred_loss_arr))/len(ytrain)\n",
    "print(\"basline train loss using median=\"+\"{:.2e}\".format(baseline_train_loss))\n",
    "\n",
    "mean_salary = np.mean(ytrain)\n",
    "ytrain_pred_loss_arr = np.absolute(ytrain - mean_salary)\n",
    "baseline_train_loss = np.sum(np.abs(ytrain_pred_loss_arr))/len(ytrain)\n",
    "print(\"basline train loss using mean=\"+\"{:.2e}\".format(baseline_train_loss))\n",
    "\n",
    "#get beaseline test loss median\n",
    "ytest = np.array(test['Salary'])\n",
    "median_salary = np.median(ytest)\n",
    "ytest_pred_loss_arr = np.absolute(ytest - median_salary)\n",
    "baseline_test_loss = np.sum(np.abs(ytest_pred_loss_arr))/len(ytest)\n",
    "print(\"basline test loss using median=\"+\"{:.2e}\".format(baseline_test_loss))\n",
    "\n",
    "#get beaseline test loss mean\n",
    "ytest = np.array(test['Salary'])\n",
    "mean_salary = np.mean(ytest)\n",
    "ytest_pred_loss_arr = np.absolute(ytest - mean_salary)\n",
    "baseline_test_loss = np.sum(np.abs(ytest_pred_loss_arr))/len(ytest)\n",
    "print(\"basline test loss using mean=\"+\"{:.2e}\".format(baseline_test_loss))"
   ]
  },
  {
   "cell_type": "code",
   "execution_count": 6,
   "metadata": {},
   "outputs": [
    {
     "data": {
      "text/plain": [
       "[<matplotlib.lines.Line2D at 0x1a238ae828>]"
      ]
     },
     "execution_count": 6,
     "metadata": {},
     "output_type": "execute_result"
    },
    {
     "data": {
      "image/png": "[encoded data removed]",
      "text/plain": [
       "<Figure size 432x288 with 1 Axes>"
      ]
     },
     "metadata": {
      "needs_background": "light"
     },
     "output_type": "display_data"
    }
   ],
   "source": [
    "ytrain = np.array(train['Salary'])\n",
    "rank = np.array(train['Rank'])\n",
    "plt.xlabel('rank')\n",
    "plt.ylabel('salary')\n",
    "plt.plot(rank,ytrain,'.')\n"
   ]
  },
  {
   "cell_type": "code",
   "execution_count": 31,
   "metadata": {},
   "outputs": [
    {
     "name": "stdout",
     "output_type": "stream",
     "text": [
      "Average Loss from prediction using only rank:  12555.220619755994\n"
     ]
    }
   ],
   "source": [
    "from sklearn import linear_model\n",
    "regressor = linear_model.LinearRegression()\n",
    "regressor.fit(train[['Rank']], ytrain)\n",
    "y_pred = regressor.predict(test[[\"Rank\"]])\n",
    "univariableAnalysisLoss = np.sum(np.abs(y_pred-ytest))/len(y_pred)\n",
    "print(\"Average Loss from prediction using only rank: \", univariableAnalysisLoss)"
   ]
  },
  {
   "cell_type": "code",
   "execution_count": 8,
   "metadata": {},
   "outputs": [
    {
     "data": {
      "text/plain": [
       "[<matplotlib.lines.Line2D at 0x1a23c3f588>]"
      ]
     },
     "execution_count": 8,
     "metadata": {},
     "output_type": "execute_result"
    },
    {
     "data": {
      "image/png": "[encoded data removed]",
      "text/plain": [
       "<Figure size 432x288 with 1 Axes>"
      ]
     },
     "metadata": {
      "needs_background": "light"
     },
     "output_type": "display_data"
    }
   ],
   "source": [
    "tuition = np.array(train['Tuition'])\n",
    "plt.xlabel('tuition')\n",
    "plt.ylabel('salary')\n",
    "plt.plot(tuition,ytrain,'.')"
   ]
  },
  {
   "cell_type": "code",
   "execution_count": 30,
   "metadata": {},
   "outputs": [
    {
     "name": "stdout",
     "output_type": "stream",
     "text": [
      "Average Loss from prediction using only tuition:  12496.003309746682\n"
     ]
    }
   ],
   "source": [
    "regressor = linear_model.LinearRegression()\n",
    "regressor.fit(train[['Tuition']], ytrain)\n",
    "y_pred = regressor.predict(test[[\"Tuition\"]])\n",
    "univariableAnalysisLoss = np.sum(np.abs(y_pred-ytest))/len(y_pred)\n",
    "print(\"Average Loss from prediction using only tuition: \", univariableAnalysisLoss)"
   ]
  },
  {
   "cell_type": "code",
   "execution_count": 9,
   "metadata": {},
   "outputs": [],
   "source": [
    "#find xtrain\n",
    "predCol = []\n",
    "for col in train.columns:\n",
    "    if col!=\"Salary\":\n",
    "        predCol.append(col)\n",
    "xtrain = train[predCol]\n",
    "xtest = test[predCol]\n",
    "ytest = test[\"Salary\"]"
   ]
  },
  {
   "cell_type": "code",
   "execution_count": 10,
   "metadata": {},
   "outputs": [
    {
     "data": {
      "text/plain": [
       "LinearRegression(copy_X=True, fit_intercept=True, n_jobs=None, normalize=False)"
      ]
     },
     "execution_count": 10,
     "metadata": {},
     "output_type": "execute_result"
    }
   ],
   "source": [
    "regr = linear_model.LinearRegression()\n",
    "regr.fit(xtrain,ytrain)"
   ]
  },
  {
   "cell_type": "code",
   "execution_count": 11,
   "metadata": {},
   "outputs": [
    {
     "data": {
      "text/plain": [
       "array([ 6.61623876e+01,  9.66830275e-02, -2.80315021e+03,  1.06631619e+03,\n",
       "       -1.11660710e+03, -2.24398511e+03,  1.01524556e+02, -1.48870471e+03,\n",
       "        8.63757889e+02, -6.67802026e+02, -5.11338540e+03, -7.36445838e+03,\n",
       "       -7.08608888e+02, -1.13759502e+03,  4.59250603e+02, -2.31514455e+02,\n",
       "        1.75710110e+01, -7.71926351e+02, -1.74618685e+02,  1.80915318e+03,\n",
       "        7.25486225e+03, -2.88000684e+03,  1.79503480e+03, -5.28873661e+03,\n",
       "       -1.23074443e+03,  1.72481619e+03,  1.41272366e+03,  7.81914844e+03,\n",
       "        9.63268251e+03,  1.68404112e+03, -5.57387789e+02, -3.92431369e+02,\n",
       "       -4.19427497e+03, -3.99479467e+03,  3.03808564e+03,  4.60049647e+03,\n",
       "       -2.96710419e+03,  3.01011659e+03,  2.08509230e+03,  9.13433242e+01,\n",
       "        3.64978248e+03,  4.38691350e+02, -7.04993351e+03,  6.47447770e+02,\n",
       "       -7.29147684e+01,  3.11726282e+02, -1.06297912e+03,  8.43859077e+03,\n",
       "        2.01199014e+04, -1.88602675e+04, -6.96476177e+02, -1.57915786e+04,\n",
       "       -1.33447347e+04,  8.81969872e+03,  2.03418876e+03,  7.05658474e+03,\n",
       "        1.45043608e+04, -8.55651984e+02,  2.39237105e+04,  3.21174369e+04,\n",
       "       -9.18283959e+03, -7.55614723e+03,  4.25333509e+03,  2.42099045e+04,\n",
       "       -1.70153538e+04,  9.30081632e+03, -1.97419813e+04, -1.01231448e+04,\n",
       "       -8.52343444e+03, -1.30244824e+04,  2.02164217e+04,  1.92749579e+04,\n",
       "       -1.31696476e+04, -1.58443440e+04, -5.89393751e+03,  3.97844863e+03,\n",
       "       -2.54289736e+02,  6.84126298e+03,  1.81578049e+04, -4.69599830e+03,\n",
       "       -1.94934443e+04,  1.99027233e+04,  2.16706794e+04, -1.38869700e+04,\n",
       "       -7.31620752e+03, -9.66020641e+03, -1.50314572e+04, -1.13771215e+04,\n",
       "       -1.34811107e+04])"
      ]
     },
     "execution_count": 11,
     "metadata": {},
     "output_type": "execute_result"
    }
   ],
   "source": [
    "regr.coef_"
   ]
  },
  {
   "cell_type": "code",
   "execution_count": 12,
   "metadata": {},
   "outputs": [
    {
     "data": {
      "text/plain": [
       "49549.920601065125"
      ]
     },
     "execution_count": 12,
     "metadata": {},
     "output_type": "execute_result"
    }
   ],
   "source": [
    "regr.intercept_"
   ]
  },
  {
   "cell_type": "code",
   "execution_count": 13,
   "metadata": {},
   "outputs": [
    {
     "name": "stdout",
     "output_type": "stream",
     "text": [
      "multiple variable average loss=6.68e+03\n"
     ]
    }
   ],
   "source": [
    "ytrain_pred = regr.predict(xtrain)\n",
    "lossm = np.sum(np.abs(ytrain_pred - ytrain))\n",
    "\n",
    "print(\"multiple variable average loss=\"+\"{:.2e}\".format(lossm/len(ytrain)))"
   ]
  },
  {
   "cell_type": "code",
   "execution_count": 14,
   "metadata": {},
   "outputs": [
    {
     "name": "stdout",
     "output_type": "stream",
     "text": [
      "multiple variable average loss=7.19e+03\n"
     ]
    }
   ],
   "source": [
    "ytest_pred = regr.predict(xtest)\n",
    "lossm = np.sum(np.abs(ytest_pred - ytest))\n",
    "\n",
    "print(\"multiple variable average loss=\"+\"{:.2e}\".format(lossm/len(ytest)))"
   ]
  },
  {
   "cell_type": "code",
   "execution_count": 15,
   "metadata": {},
   "outputs": [
    {
     "name": "stdout",
     "output_type": "stream",
     "text": [
      "Correlation between  Rank  and Salary is  0.27516991288998127\n",
      "Correlation between  Tuition  and Salary is  0.27379003470916397\n",
      "Correlation between  Location__AL  and Salary is  -0.005556989143202543\n",
      "Correlation between  Location__AR  and Salary is  -0.006883049776992106\n",
      "Correlation between  Location__AZ  and Salary is  -0.022714052716141454\n",
      "Correlation between  Location__CA  and Salary is  -0.01410136310861972\n",
      "Correlation between  Location__CO  and Salary is  0.03025272632111027\n",
      "Correlation between  Location__CT  and Salary is  -0.004005758257188353\n",
      "Correlation between  Location__DC  and Salary is  0.020790468317971388\n",
      "Correlation between  Location__DE  and Salary is  0.016667545796695587\n",
      "Correlation between  Location__FL  and Salary is  -0.06901194638999004\n",
      "Correlation between  Location__GA  and Salary is  -0.04915066901017824\n",
      "Correlation between  Location__IA  and Salary is  -0.0005539363149166209\n",
      "Correlation between  Location__ID  and Salary is  -0.027744337123540394\n",
      "Correlation between  Location__IL  and Salary is  -0.006950972828225188\n",
      "Correlation between  Location__IN  and Salary is  -0.0041712942038646585\n",
      "Correlation between  Location__KS  and Salary is  -0.000596219561564451\n",
      "Correlation between  Location__KY  and Salary is  -0.03656716552600535\n",
      "Correlation between  Location__LA  and Salary is  -0.002771416082184932\n",
      "Correlation between  Location__MA  and Salary is  0.09024913459482714\n",
      "Correlation between  Location__MD  and Salary is  0.05194223739766512\n",
      "Correlation between  Location__ME  and Salary is  -0.012969349328087102\n",
      "Correlation between  Location__MI  and Salary is  -0.0051605442888973\n",
      "Correlation between  Location__MO  and Salary is  -0.024438857065204395\n",
      "Correlation between  Location__MS  and Salary is  -0.048814250193346266\n",
      "Correlation between  Location__MT  and Salary is  -0.034418700905124784\n",
      "Correlation between  Location__NC  and Salary is  -0.004146085433518242\n",
      "Correlation between  Location__ND  and Salary is  0.010929713720159339\n",
      "Correlation between  Location__NH  and Salary is  0.0369961935404648\n",
      "Correlation between  Location__NJ  and Salary is  0.006616440527571636\n",
      "Correlation between  Location__NY  and Salary is  0.056345626051670525\n",
      "Correlation between  Location__OH  and Salary is  0.031117461931876474\n",
      "Correlation between  Location__OK  and Salary is  0.03018907479317361\n",
      "Correlation between  Location__OR  and Salary is  -0.07574970734294881\n",
      "Correlation between  Location__PA  and Salary is  0.1290309895297291\n",
      "Correlation between  Location__RI  and Salary is  0.006219156362793284\n",
      "Correlation between  Location__SC  and Salary is  0.013445737678388876\n",
      "Correlation between  Location__SD  and Salary is  -0.04214156424675569\n",
      "Correlation between  Location__TN  and Salary is  0.0008374766902316896\n",
      "Correlation between  Location__TX  and Salary is  -0.004503680121168892\n",
      "Correlation between  Location__UT  and Salary is  -0.011031310148964683\n",
      "Correlation between  Location__VA  and Salary is  -0.04959628931964158\n",
      "Correlation between  Location__VT  and Salary is  -0.03553940340232963\n",
      "Correlation between  Location__WA  and Salary is  -0.016931337336998916\n",
      "Correlation between  Location__WI  and Salary is  0.022507426142785676\n",
      "Correlation between  Location__WV  and Salary is  -0.02898234162687554\n",
      "Correlation between  Location__WY  and Salary is  -0.027537741366451228\n",
      "Correlation between  Major__Accounting  and Salary is  0.08570107750355382\n",
      "Correlation between  Major__Aerospace  and Salary is  0.08031775457003525\n",
      "Correlation between  Major__Anthropology  and Salary is  -0.1070513265734893\n",
      "Correlation between  Major__Architecture  and Salary is  0.008868088300204507\n",
      "Correlation between  Major__Art  and Salary is  -0.24868254624353117\n",
      "Correlation between  Major__Bio  and Salary is  -0.1570856324783877\n",
      "Correlation between  Major__Biomedical  and Salary is  0.07743168466727679\n",
      "Correlation between  Major__Business  and Salary is  0.044098364989214246\n",
      "Correlation between  Major__Chem  and Salary is  0.09332481849073107\n",
      "Correlation between  Major__Civil  and Salary is  0.12817229862823157\n",
      "Correlation between  Major__Communication  and Salary is  0.007554876692602362\n",
      "Correlation between  Major__Computer Engineer  and Salary is  0.15359268928644704\n",
      "Correlation between  Major__Computer Science  and Salary is  0.27750605575247667\n",
      "Correlation between  Major__Criminal  and Salary is  -0.06214420878216978\n",
      "Correlation between  Major__Design  and Salary is  -0.03392658880274742\n",
      "Correlation between  Major__Economics  and Salary is  0.07538763449112489\n",
      "Correlation between  Major__Electrical  and Salary is  0.21041802256897066\n",
      "Correlation between  Major__English  and Salary is  -0.13132900574731995\n",
      "Correlation between  Major__Finance  and Salary is  0.09161343334551993\n",
      "Correlation between  Major__Gender  and Salary is  -0.041754359733281246\n",
      "Correlation between  Major__Government  and Salary is  -0.06556126273897572\n",
      "Correlation between  Major__Health  and Salary is  -0.1020680120084168\n",
      "Correlation between  Major__History  and Salary is  -0.09347074669013604\n",
      "Correlation between  Major__Industrial  and Salary is  0.1019892293395976\n",
      "Correlation between  Major__Information  and Salary is  0.1993688291503737\n",
      "Correlation between  Major__Journalism  and Salary is  -0.07858061086859504\n",
      "Correlation between  Major__Language  and Salary is  -0.16604624441967622\n",
      "Correlation between  Major__Law  and Salary is  -0.007077138076603789\n",
      "Correlation between  Major__Management  and Salary is  0.08017123459009073\n",
      "Correlation between  Major__Marketing  and Salary is  0.007459107284126565\n",
      "Correlation between  Major__Math  and Salary is  0.06781922280322908\n",
      "Correlation between  Major__Mechanical  and Salary is  0.20158330446918055\n",
      "Correlation between  Major__Med  and Salary is  -0.029128738889810355\n",
      "Correlation between  Major__Music  and Salary is  -0.0969468147193498\n",
      "Correlation between  Major__Nursing  and Salary is  0.18949459123925194\n",
      "Correlation between  Major__Petroleum  and Salary is  0.0627499417980328\n",
      "Correlation between  Major__Philosophy  and Salary is  -0.028755881434255958\n",
      "Correlation between  Major__Physics  and Salary is  -0.016877750960721898\n",
      "Correlation between  Major__Politic  and Salary is  -0.06556126273897572\n",
      "Correlation between  Major__Psychology  and Salary is  -0.1508678179197493\n",
      "Correlation between  Major__Social  and Salary is  -0.08424434662822672\n",
      "Correlation between  Major__Sociology  and Salary is  -0.10175567517802471\n"
     ]
    }
   ],
   "source": [
    "import math\n",
    "y = np.array(df_processed['Salary'])\n",
    "x = df_processed[predCol]\n",
    "ysal = pd.Series(y)\n",
    "strongestCorr, column = 0, \"\"\n",
    "locationCorrCount, locationS, majorS, majorCorrCount = 0,0,0,0\n",
    "rankCorr, tuitionCorr = None, None\n",
    "listOfCorr = []\n",
    "for col in predCol:\n",
    "    predV = x[col]\n",
    "    corr = predV.corr(ysal)\n",
    "    if not math.isnan(corr):\n",
    "        listOfCorr.append((col, corr))\n",
    "        if \"Location\" in col:\n",
    "            locationS+=abs(corr)\n",
    "            locationCorrCount+=1\n",
    "        if \"Major\" in col:\n",
    "            majorS+=abs(corr)\n",
    "            majorCorrCount+=1\n",
    "        if \"Rank\" in col:\n",
    "            rankCorr = corr\n",
    "        if \"Tuition\" in col:\n",
    "            tuitionCorr = corr\n",
    "    if abs(corr)>abs(strongestCorr):\n",
    "        strongestCorr = corr\n",
    "        column = col\n",
    "    print(\"Correlation between \",col,\" and Salary is \", corr)\n"
   ]
  },
  {
   "cell_type": "code",
   "execution_count": 16,
   "metadata": {},
   "outputs": [
    {
     "name": "stdout",
     "output_type": "stream",
     "text": [
      "The strongest indicator with the highest correlation is  Major__Computer Science , with a correlation coefficient of  0.27750605575247667\n"
     ]
    }
   ],
   "source": [
    "print(\"The strongest indicator with the highest correlation is \", column,\", with a correlation coefficient of \", strongestCorr)"
   ]
  },
  {
   "cell_type": "code",
   "execution_count": 17,
   "metadata": {},
   "outputs": [
    {
     "name": "stdout",
     "output_type": "stream",
     "text": [
      "Correlation coefficients: (Average of absolute value for each major and location)\n",
      "Rank:  0.27516991288998127\n",
      "Tuition:  0.27379003470916397\n",
      "Major Average:  0.09794138646649324\n",
      "Location Average:  0.027263949812578698\n"
     ]
    }
   ],
   "source": [
    "print(\"Correlation coefficients: (Average of absolute value for each major and location)\")\n",
    "print(\"Rank: \", rankCorr)\n",
    "print(\"Tuition: \", tuitionCorr)\n",
    "print(\"Major Average: \", majorS/majorCorrCount)\n",
    "print(\"Location Average: \", locationS/locationCorrCount)"
   ]
  },
  {
   "cell_type": "code",
   "execution_count": 18,
   "metadata": {},
   "outputs": [
    {
     "name": "stdout",
     "output_type": "stream",
     "text": [
      "The 20 strongest positive correlation variables: \n",
      "('Major__Computer Science', 0.27750605575247667)\n",
      "('Rank', 0.27516991288998127)\n",
      "('Tuition', 0.27379003470916397)\n",
      "('Major__Electrical', 0.21041802256897066)\n",
      "('Major__Mechanical', 0.20158330446918055)\n",
      "('Major__Information', 0.1993688291503737)\n",
      "('Major__Nursing', 0.18949459123925194)\n",
      "('Major__Computer Engineer', 0.15359268928644704)\n",
      "('Location__PA', 0.1290309895297291)\n",
      "('Major__Civil', 0.12817229862823157)\n",
      "('Major__Industrial', 0.1019892293395976)\n",
      "('Major__Chem', 0.09332481849073107)\n",
      "('Major__Finance', 0.09161343334551993)\n",
      "('Location__MA', 0.09024913459482714)\n",
      "('Major__Accounting', 0.08570107750355382)\n",
      "('Major__Aerospace', 0.08031775457003525)\n",
      "('Major__Management', 0.08017123459009073)\n",
      "('Major__Biomedical', 0.07743168466727679)\n",
      "('Major__Economics', 0.07538763449112489)\n",
      "('Major__Math', 0.06781922280322908)\n"
     ]
    }
   ],
   "source": [
    "listOfCorr.sort(key=lambda x:x[1], reverse = True)\n",
    "print(\"The 20 strongest positive correlation variables: \")\n",
    "for i in range(20):\n",
    "    print(listOfCorr[i])"
   ]
  },
  {
   "cell_type": "code",
   "execution_count": 19,
   "metadata": {},
   "outputs": [
    {
     "name": "stdout",
     "output_type": "stream",
     "text": [
      "The 20 strongest negative correlation variables: \n",
      "('Major__Art', -0.24868254624353117)\n",
      "('Major__Language', -0.16604624441967622)\n",
      "('Major__Bio', -0.1570856324783877)\n",
      "('Major__Psychology', -0.1508678179197493)\n",
      "('Major__English', -0.13132900574731995)\n",
      "('Major__Anthropology', -0.1070513265734893)\n",
      "('Major__Health', -0.1020680120084168)\n",
      "('Major__Sociology', -0.10175567517802471)\n",
      "('Major__Music', -0.0969468147193498)\n",
      "('Major__History', -0.09347074669013604)\n",
      "('Major__Social', -0.08424434662822672)\n",
      "('Major__Journalism', -0.07858061086859504)\n",
      "('Location__OR', -0.07574970734294881)\n",
      "('Location__FL', -0.06901194638999004)\n",
      "('Major__Politic', -0.06556126273897572)\n",
      "('Major__Government', -0.06556126273897572)\n",
      "('Major__Criminal', -0.06214420878216978)\n",
      "('Location__VA', -0.04959628931964158)\n",
      "('Location__GA', -0.04915066901017824)\n",
      "('Location__MS', -0.048814250193346266)\n"
     ]
    }
   ],
   "source": [
    "print(\"The 20 strongest negative correlation variables: \")\n",
    "for i in range(20):\n",
    "    print(listOfCorr[len(listOfCorr)-1-i])"
   ]
  },
  {
   "cell_type": "code",
   "execution_count": null,
   "metadata": {},
   "outputs": [],
   "source": []
  }
 ],
 "metadata": {
  "kernelspec": {
   "display_name": "Python 3",
   "language": "python",
   "name": "python3"
  },
  "language_info": {
   "codemirror_mode": {
    "name": "ipython",
    "version": 3
   },
   "file_extension": ".py",
   "mimetype": "text/x-python",
   "name": "python",
   "nbconvert_exporter": "python",
   "pygments_lexer": "ipython3",
   "version": "3.6.10"
  }
 },
 "nbformat": 4,
 "nbformat_minor": 4
}
