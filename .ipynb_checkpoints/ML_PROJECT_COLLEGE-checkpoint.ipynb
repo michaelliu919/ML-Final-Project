{
 "cells": [
  {
   "cell_type": "code",
   "execution_count": 1,
   "metadata": {},
   "outputs": [
    {
     "name": "stderr",
     "output_type": "stream",
     "text": [
      "\n",
      "Bad key \"text.kerning_factor\" on line 4 in\n",
      "/Users/michaelliu/anaconda/lib/python3.6/site-packages/matplotlib/mpl-data/stylelib/_classic_test_patch.mplstyle.\n",
      "You probably need to get an updated matplotlibrc file from\n",
      "https://github.com/matplotlib/matplotlib/blob/v3.1.3/matplotlibrc.template\n",
      "or from the matplotlib source distribution\n"
     ]
    },
    {
     "ename": "ModuleNotFoundError",
     "evalue": "No module named 'descartes'",
     "output_type": "error",
     "traceback": [
      "\u001b[0;31m---------------------------------------------------------------------------\u001b[0m",
      "\u001b[0;31mModuleNotFoundError\u001b[0m                       Traceback (most recent call last)",
      "\u001b[0;32m<ipython-input-1-a8349cf55401>\u001b[0m in \u001b[0;36m<module>\u001b[0;34m()\u001b[0m\n\u001b[1;32m      7\u001b[0m \u001b[0;32mfrom\u001b[0m \u001b[0msklearn\u001b[0m \u001b[0;32mimport\u001b[0m \u001b[0mdatasets\u001b[0m\u001b[0;34m,\u001b[0m \u001b[0mlinear_model\u001b[0m\u001b[0;34m\u001b[0m\u001b[0;34m\u001b[0m\u001b[0m\n\u001b[1;32m      8\u001b[0m \u001b[0;32mfrom\u001b[0m \u001b[0msklearn\u001b[0m\u001b[0;34m.\u001b[0m\u001b[0mmodel_selection\u001b[0m \u001b[0;32mimport\u001b[0m \u001b[0mtrain_test_split\u001b[0m\u001b[0;34m\u001b[0m\u001b[0;34m\u001b[0m\u001b[0m\n\u001b[0;32m----> 9\u001b[0;31m \u001b[0;32mimport\u001b[0m \u001b[0mdescartes\u001b[0m\u001b[0;34m\u001b[0m\u001b[0;34m\u001b[0m\u001b[0m\n\u001b[0m\u001b[1;32m     10\u001b[0m \u001b[0;32mimport\u001b[0m \u001b[0mgeopandas\u001b[0m \u001b[0;32mas\u001b[0m \u001b[0mgpd\u001b[0m\u001b[0;34m\u001b[0m\u001b[0;34m\u001b[0m\u001b[0m\n\u001b[1;32m     11\u001b[0m \u001b[0;32mfrom\u001b[0m \u001b[0mshapely\u001b[0m\u001b[0;34m.\u001b[0m\u001b[0mgeometry\u001b[0m \u001b[0;32mimport\u001b[0m \u001b[0mPoint\u001b[0m\u001b[0;34m,\u001b[0m \u001b[0mPolygon\u001b[0m\u001b[0;34m\u001b[0m\u001b[0;34m\u001b[0m\u001b[0m\n",
      "\u001b[0;31mModuleNotFoundError\u001b[0m: No module named 'descartes'"
     ]
    }
   ],
   "source": [
    "import pandas as pd\n",
    "import numpy as np\n",
    "import matplotlib\n",
    "import matplotlib.pyplot as plt\n",
    "import scipy as sp\n",
    "from sklearn.preprocessing import LabelEncoder, OneHotEncoder, PolynomialFeatures\n",
    "from sklearn import datasets, linear_model\n",
    "from sklearn.model_selection import train_test_split \n",
    "import descartes\n",
    "import geopandas as gpd\n",
    "from shapely.geometry import Point, Polygon"
   ]
  },
  {
   "cell_type": "code",
   "execution_count": null,
   "metadata": {},
   "outputs": [],
   "source": [
    "col_names =[\"INSTNM\", \"MD_EARN_WNE_P10\", \"AVGFACSAL\"]\n",
    "\n",
    "df = pd.read_csv('Data/MERGED2013_14_PP.csv',\n",
    "                 usecols=col_names)\n",
    "nan_value = float(\"NaN\")\n",
    "df.replace(\"PrivacySuppressed\", nan_value, inplace=True)\n",
    "df.dropna(inplace=True)\n",
    "#\"DEBT_MDN\", \"STABBR\", \"COSTT4_A\", \"ADM_RATE\", \"SAT_AVG\", \"UGDS\",\n",
    "#df[\"DEBT_MDN\"] = df[\"DEBT_MDN\"].astype(str).astype(float)\n",
    "df[\"MD_EARN_WNE_P10\"] = df[\"MD_EARN_WNE_P10\"].astype(str).astype(int)\n",
    "df"
   ]
  },
  {
   "cell_type": "code",
   "execution_count": null,
   "metadata": {},
   "outputs": [],
   "source": [
    "#show schools on us map to give idea of where most schools are\n",
    "df_lat_long = pd.read_csv('Data/MERGED2018_19_PP.csv',\n",
    "                 usecols=[\"LATITUDE\", \"LONGITUDE\"])\n",
    "df_lat_long.dropna()\n",
    "crs = {'init': 'epsg:4326'}\n",
    "street_map = geopandas.read_file(geopandas.datasets.get_path('naturalearth_lowres'))\n",
    "street_map = street_map[(street_map.iso_a3 == 'USA')]\n",
    "base = street_map.plot(figsize=(30,30), alpha = 0.5)\n",
    "geometry = [Point(xy) for xy in zip(df_lat_long[\"LONGITUDE\"], df_lat_long[\"LATITUDE\"])]\n",
    "geo_df = gpd.GeoDataFrame(df_lat_long, crs=crs, geometry=geometry)\n",
    "geo_df = geo_df[(geo_df[\"LONGITUDE\"] < 0) & (geo_df[\"LATITUDE\"] > 0)]\n",
    "geo_df.plot(ax = base, markersize = 5, color='red', marker=\"o\")"
   ]
  },
  {
   "cell_type": "code",
   "execution_count": null,
   "metadata": {},
   "outputs": [],
   "source": [
    "#show top cost schools\n",
    "print(df.nlargest(10, columns=['COSTT4_A'])[['INSTNM', 'COSTT4_A']])\n",
    "\n",
    "#show top salary schools\n",
    "print(df.nlargest(10, columns=['MD_EARN_WNE_P10'])[['INSTNM', 'MD_EARN_WNE_P10']])"
   ]
  },
  {
   "cell_type": "code",
   "execution_count": null,
   "metadata": {},
   "outputs": [],
   "source": [
    "#show top cost schools\n",
    "print(df.nsmallest(10, columns=['COSTT4_A'])[['INSTNM', 'COSTT4_A']])\n",
    "\n",
    "#show top salary schools\n",
    "print(df.nsmallest(10, columns=['MD_EARN_WNE_P10'])[['INSTNM', 'MD_EARN_WNE_P10']])"
   ]
  },
  {
   "cell_type": "code",
   "execution_count": null,
   "metadata": {},
   "outputs": [],
   "source": [
    "X = df['COSTT4_A'].values.reshape(-1,1)\n",
    "y = df['MD_EARN_WNE_P10'].values.reshape(-1,1)\n",
    "\n",
    "\n",
    "\n",
    "X_train, X_test, y_train, y_test = train_test_split(X, y, test_size=0.2)\n",
    "\n",
    "poly = PolynomialFeatures(degree=3)\n",
    "X_train_ = poly.fit_transform(X_train)\n",
    "X_test_ = poly.fit_transform(X_test)\n",
    "\n",
    "regressor = linear_model.LinearRegression()\n",
    "regressor.fit(X_train_, y_train)\n",
    "y_pred = regressor.predict(X_test_)\n",
    "\n",
    "plt.xlabel('Cost')\n",
    "plt.ylabel('Salary')\n",
    "plt.plot(X_test,y_test,'.')\n",
    "plt.plot(X_test, y_pred, '.')"
   ]
  },
  {
   "cell_type": "code",
   "execution_count": null,
   "metadata": {},
   "outputs": [],
   "source": [
    "l1_loss = np.sum(np.abs(y_pred - y_test))\n",
    "print(\"l1 loss={:.2e}\".format(l1_loss))\n",
    "print(\"mean l1 loss={:.2e}\".format(l1_loss/len(X_test)))"
   ]
  },
  {
   "cell_type": "code",
   "execution_count": null,
   "metadata": {},
   "outputs": [],
   "source": [
    "X = df['ADM_RATE'].values.reshape(-1,1)\n",
    "y = df['MD_EARN_WNE_P10'].values.reshape(-1,1)\n",
    "\n",
    "\n",
    "\n",
    "X_train, X_test, y_train, y_test = train_test_split(X, y, test_size=0.2)\n",
    "\n",
    "poly = PolynomialFeatures(degree=3)\n",
    "X_train_ = poly.fit_transform(X_train)\n",
    "X_test_ = poly.fit_transform(X_test)\n",
    "\n",
    "regressor = linear_model.LinearRegression()\n",
    "regressor.fit(X_train_, y_train)\n",
    "y_pred = regressor.predict(X_test_)\n",
    "\n",
    "plt.xlabel('Admission Rate')\n",
    "plt.ylabel('Salary')\n",
    "plt.plot(X_test,y_test,'.')\n",
    "plt.plot(X_test, y_pred, '.')"
   ]
  },
  {
   "cell_type": "code",
   "execution_count": null,
   "metadata": {},
   "outputs": [],
   "source": [
    "l1_loss = np.sum(np.abs(y_pred - y_test))\n",
    "print(\"l1 loss={:.2e}\".format(l1_loss))\n",
    "print(\"mean l1 loss={:.2e}\".format(l1_loss/len(X_test)))"
   ]
  },
  {
   "cell_type": "code",
   "execution_count": null,
   "metadata": {},
   "outputs": [],
   "source": [
    "X = df['SAT_AVG'].values.reshape(-1,1)\n",
    "y = df['MD_EARN_WNE_P10'].values.reshape(-1,1)\n",
    "\n",
    "\n",
    "\n",
    "X_train, X_test, y_train, y_test = train_test_split(X, y, test_size=0.2)\n",
    "\n",
    "poly = PolynomialFeatures(degree=2)\n",
    "X_train_ = poly.fit_transform(X_train)\n",
    "X_test_ = poly.fit_transform(X_test)\n",
    "\n",
    "regressor = linear_model.LinearRegression()\n",
    "regressor.fit(X_train_, y_train)\n",
    "y_pred = regressor.predict(X_test_)\n",
    "\n",
    "plt.xlabel('SAT Average')\n",
    "plt.ylabel('Salary')\n",
    "plt.plot(X_test,y_test,'.')\n",
    "plt.plot(X_test, y_pred, '.')"
   ]
  },
  {
   "cell_type": "code",
   "execution_count": null,
   "metadata": {},
   "outputs": [],
   "source": [
    "l1_loss = np.sum(np.abs(y_pred - y_test))\n",
    "print(\"l1 loss={:.2e}\".format(l1_loss))\n",
    "print(\"mean l1 loss={:.2e}\".format(l1_loss/len(X_test)))"
   ]
  },
  {
   "cell_type": "code",
   "execution_count": null,
   "metadata": {},
   "outputs": [],
   "source": [
    "X = df['UGDS'].values.reshape(-1,1)\n",
    "y = df['MD_EARN_WNE_P10'].values.reshape(-1,1)\n",
    "\n",
    "\n",
    "X_train, X_test, y_train, y_test = train_test_split(X, y, test_size=0.2)\n",
    "\n",
    "poly = PolynomialFeatures(degree=1)\n",
    "X_train_ = poly.fit_transform(X_train)\n",
    "X_test_ = poly.fit_transform(X_test)\n",
    "\n",
    "regressor = linear_model.LinearRegression()\n",
    "regressor.fit(X_train_, y_train)\n",
    "y_pred = regressor.predict(X_test_)\n",
    "\n",
    "plt.xlabel('Number of Undergrads')\n",
    "plt.ylabel('Salary')\n",
    "plt.plot(X_test,y_test,'.')\n",
    "plt.plot(X_test, y_pred, '.')"
   ]
  },
  {
   "cell_type": "code",
   "execution_count": null,
   "metadata": {},
   "outputs": [],
   "source": [
    "l1_loss = np.sum(np.abs(y_pred - y_test))\n",
    "print(\"l1 loss={:.2e}\".format(l1_loss))\n",
    "print(\"mean l1 loss={:.2e}\".format(l1_loss/len(X_test)))"
   ]
  },
  {
   "cell_type": "code",
   "execution_count": null,
   "metadata": {},
   "outputs": [],
   "source": [
    "X = df['DEBT_MDN'].values.reshape(-1,1)\n",
    "y = df['MD_EARN_WNE_P10'].values.reshape(-1,1)\n",
    "\n",
    "X_train, X_test, y_train, y_test = train_test_split(X, y, test_size=0.2)\n",
    "\n",
    "poly = PolynomialFeatures(degree=1)\n",
    "X_train_ = poly.fit_transform(X_train)\n",
    "X_test_ = poly.fit_transform(X_test)\n",
    "\n",
    "regressor = linear_model.LinearRegression()\n",
    "regressor.fit(X_train_, y_train)\n",
    "y_pred = regressor.predict(X_test_)\n",
    "\n",
    "plt.xlabel('Debt')\n",
    "plt.ylabel('Salary')\n",
    "plt.plot(X_test,y_test,'.')\n",
    "plt.plot(X_test, y_pred, '.')"
   ]
  },
  {
   "cell_type": "code",
   "execution_count": null,
   "metadata": {},
   "outputs": [],
   "source": [
    "l1_loss = np.sum(np.abs(y_pred - y_test))\n",
    "print(\"l1 loss={:.2e}\".format(l1_loss))\n",
    "print(\"mean l1 loss={:.2e}\".format(l1_loss/len(X_test)))"
   ]
  },
  {
   "cell_type": "code",
   "execution_count": null,
   "metadata": {},
   "outputs": [],
   "source": [
    "X = df['AVGFACSAL'].values.reshape(-1,1)\n",
    "y = df['MD_EARN_WNE_P10'].values.reshape(-1,1)\n",
    "\n",
    "X_train, X_test, y_train, y_test = train_test_split(X, y, test_size=0.2)\n",
    "\n",
    "poly = PolynomialFeatures(degree=1)\n",
    "X_train_ = poly.fit_transform(X_train)\n",
    "X_test_ = poly.fit_transform(X_test)\n",
    "\n",
    "regressor = linear_model.LinearRegression()\n",
    "regressor.fit(X_train_, y_train)\n",
    "y_pred = regressor.predict(X_test_)\n",
    "\n",
    "plt.xlabel('Faculty Salary')\n",
    "plt.ylabel('Salary')\n",
    "plt.plot(X_test,y_test,'.')\n",
    "plt.plot(X_test, y_pred, '.')"
   ]
  },
  {
   "cell_type": "code",
   "execution_count": null,
   "metadata": {},
   "outputs": [],
   "source": [
    "#baseline\n",
    "median_salary = np.median(y_test)\n",
    "ytest_pred_loss_arr = np.abs(y_test - median_salary)\n",
    "baseline_test_loss = np.sum(ytest_pred_loss_arr)\n",
    "print(\"mean basline test loss using median=\"+\"{:.2e}\".format(baseline_test_loss/len(X_test)))\n",
    "\n",
    "l1_loss = np.sum(np.abs(y_pred - y_test))\n",
    "print(\"l1 loss={:.2e}\".format(l1_loss))\n",
    "print(\"mean l1 loss={:.2e}\".format(l1_loss/len(X_test)))"
   ]
  },
  {
   "cell_type": "code",
   "execution_count": null,
   "metadata": {},
   "outputs": [],
   "source": []
  },
  {
   "cell_type": "code",
   "execution_count": null,
   "metadata": {},
   "outputs": [],
   "source": []
  },
  {
   "cell_type": "code",
   "execution_count": null,
   "metadata": {},
   "outputs": [],
   "source": []
  }
 ],
 "metadata": {
  "kernelspec": {
   "display_name": "Python 3",
   "language": "python",
   "name": "python3"
  },
  "language_info": {
   "codemirror_mode": {
    "name": "ipython",
    "version": 3
   },
   "file_extension": ".py",
   "mimetype": "text/x-python",
   "name": "python",
   "nbconvert_exporter": "python",
   "pygments_lexer": "ipython3",
   "version": "3.6.10"
  }
 },
 "nbformat": 4,
 "nbformat_minor": 4
}
